{
 "cells": [
  {
   "cell_type": "code",
   "execution_count": null,
   "metadata": {},
   "outputs": [],
   "source": []
  },
  {
   "cell_type": "code",
   "execution_count": 1,
   "metadata": {},
   "outputs": [],
   "source": [
    "import torch\n",
    "import torch.nn.functional as F\n",
    "\n",
    "def mse_wl(outs, y, len_batch=None, p=2, dim=1):\n",
    "    \"\"\"_summary_\n",
    "\n",
    "    Args:\n",
    "        outs (_type_): B * T or B*T*d_i...\n",
    "        y (_type_): B * T or B*T*d_i...\n",
    "        len_batch (_type_, optional): _description_. Defaults to None.\n",
    "        p (int, optional): _description_. Defaults to 2.\n",
    "        dim (int, optional): _description_. Defaults to 1.\n",
    "\n",
    "    Returns:\n",
    "        _type_: _description_\n",
    "    \"\"\"\n",
    "    shape_len = len(outs.shape)\n",
    "    shape = tuple(1 if i != 1 else outs.shape[1] for i in range(shape_len))\n",
    "\n",
    "    weight = torch.ones(shape)\n",
    "    for i in range(shape[1]):\n",
    "        weight[:, i] = (i + 1) ** p\n",
    "    weight /= weight.sum()\n",
    "\n",
    "    weight.to(outs.device)\n",
    "    return F.mse_loss(outs * weight, y * weight)"
   ]
  },
  {
   "cell_type": "code",
   "execution_count": 11,
   "metadata": {},
   "outputs": [
    {
     "name": "stdout",
     "output_type": "stream",
     "text": [
      "weight on time coordinate 0 tensor(0.0017)\n",
      "weight on time coordinate 2 tensor(0.1378)\n"
     ]
    }
   ],
   "source": [
    "outs = torch.ones(1,3,1)\n",
    "y = torch.ones(1,3,1)\n",
    "y[:,0]*=2\n",
    "print(\"weight on time coordinate 0\", mse_wl(outs, y))\n",
    "\n",
    "outs = torch.ones(1,3,1)\n",
    "y = torch.ones(1,3,1)\n",
    "y[:,2]*=2\n",
    "print(\"weight on time coordinate 2\", mse_wl(outs, y))"
   ]
  },
  {
   "cell_type": "code",
   "execution_count": null,
   "metadata": {},
   "outputs": [],
   "source": []
  }
 ],
 "metadata": {
  "kernelspec": {
   "display_name": "jht",
   "language": "python",
   "name": "python3"
  },
  "language_info": {
   "codemirror_mode": {
    "name": "ipython",
    "version": 3
   },
   "file_extension": ".py",
   "mimetype": "text/x-python",
   "name": "python",
   "nbconvert_exporter": "python",
   "pygments_lexer": "ipython3",
   "version": "3.9.16"
  },
  "orig_nbformat": 4
 },
 "nbformat": 4,
 "nbformat_minor": 2
}
